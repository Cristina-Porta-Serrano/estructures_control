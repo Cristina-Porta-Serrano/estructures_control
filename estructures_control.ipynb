{
 "cells": [
  {
   "cell_type": "markdown",
   "id": "d16af80d",
   "metadata": {},
   "source": [
    "#**S02 T03**#"
   ]
  },
  {
   "cell_type": "code",
   "execution_count": 33,
   "id": "cf72f164",
   "metadata": {},
   "outputs": [],
   "source": [
    "import numpy as np"
   ]
  },
  {
   "cell_type": "markdown",
   "id": "962aa7ca",
   "metadata": {},
   "source": [
    "##*Exercice 1*##"
   ]
  },
  {
   "cell_type": "markdown",
   "id": "7fac56b5",
   "metadata": {},
   "source": [
    "*L'exercici consisteix a crear un programa que et classifiqui una variable numèrica en funció de l’escala Suspès/Aprovat/Notable/Excel·lent.*"
   ]
  },
  {
   "cell_type": "code",
   "execution_count": 2,
   "id": "4717cf0c",
   "metadata": {},
   "outputs": [
    {
     "name": "stdout",
     "output_type": "stream",
     "text": [
      "passed\n"
     ]
    }
   ],
   "source": [
    "grade = 6\n",
    "\n",
    "if (grade >=0 and grade < 5):\n",
    "    print(\"failed\")\n",
    "\n",
    "elif (grade >=5 and grade < 7):\n",
    "    print(\"passed\")\n",
    "\n",
    "elif (grade >=7 and grade < 9):\n",
    "    print (\"remarkable\")\n",
    "\n",
    "else: \n",
    "    print(\"excellent\")"
   ]
  },
  {
   "cell_type": "markdown",
   "id": "a999592f",
   "metadata": {},
   "source": [
    "##*Exercice 2*##"
   ]
  },
  {
   "cell_type": "markdown",
   "id": "f20e93b4",
   "metadata": {},
   "source": [
    "*Utilitzant el següent tutorial Programiz: Python Input, Output and Import crea un programa que et pregunti dos números. T’ha de mostrar un missatge dient si el primer és més gran, el segon és més gran o són iguals.*"
   ]
  },
  {
   "cell_type": "code",
   "execution_count": 3,
   "id": "2122db6f",
   "metadata": {},
   "outputs": [
    {
     "name": "stdout",
     "output_type": "stream",
     "text": [
      "Enter a number: 10\n"
     ]
    }
   ],
   "source": [
    "num1 = input('Enter a number: ')"
   ]
  },
  {
   "cell_type": "code",
   "execution_count": 4,
   "id": "10afa2e8",
   "metadata": {},
   "outputs": [
    {
     "name": "stdout",
     "output_type": "stream",
     "text": [
      "Enter another number: 8\n"
     ]
    }
   ],
   "source": [
    "num2 = input('Enter another number: ')"
   ]
  },
  {
   "cell_type": "code",
   "execution_count": 8,
   "id": "a63d68f4",
   "metadata": {},
   "outputs": [
    {
     "name": "stdout",
     "output_type": "stream",
     "text": [
      "10 is greater than 8\n"
     ]
    }
   ],
   "source": [
    "if (int(num1) > int(num2)):\n",
    "    print(num1 + \" is greater than \" + num2)\n",
    "elif (int(num1)< int(num2)):\n",
    "    print(num2 + \" is greater than \" + num1)\n",
    "else:\n",
    "    print(\"Both numbers are equal\")    "
   ]
  },
  {
   "cell_type": "markdown",
   "id": "8e50dea8",
   "metadata": {},
   "source": [
    "##*Exercice 3*##"
   ]
  },
  {
   "cell_type": "markdown",
   "id": "3ee9019b",
   "metadata": {},
   "source": [
    "*Crea un programa que et pregunti el teu nom, i et demani un número. Si el número és 0, hauria de mostrar un missatge d’error. En cas contrari, hauria de mostrar el nom repetit tants cops com indiqui el número. Per exemple, “Joan Joan Joan”.*"
   ]
  },
  {
   "cell_type": "code",
   "execution_count": 21,
   "id": "aa97512f",
   "metadata": {},
   "outputs": [
    {
     "name": "stdout",
     "output_type": "stream",
     "text": [
      "Enter your name: Cristina\n",
      "Please input a number: 4\n",
      "Cristina Cristina Cristina Cristina "
     ]
    }
   ],
   "source": [
    "def repeat():\n",
    "    name=str(input(\"Enter your name: \"))\n",
    "    num3=int(input(\"Please input a number: \"))\n",
    "    if (num3 == 0):\n",
    "            print(\"Error. Not valid num.\")\n",
    "    for i in range(num3):\n",
    "        print(name,end=\" \")\n",
    "repeat()"
   ]
  },
  {
   "cell_type": "markdown",
   "id": "4142ab89",
   "metadata": {},
   "source": [
    "##*Exercice 4*##"
   ]
  },
  {
   "cell_type": "markdown",
   "id": "09ec5caf",
   "metadata": {},
   "source": [
    "#*Crea un programa que donada una llista qualsevol, et digui si es simètrica o no. Si ho és, que et digui quants elements té.*"
   ]
  },
  {
   "cell_type": "code",
   "execution_count": 41,
   "id": "4dbefa11",
   "metadata": {},
   "outputs": [
    {
     "name": "stdout",
     "output_type": "stream",
     "text": [
      "The list is symmetric.\n",
      "The list has 8 elements.\n"
     ]
    }
   ],
   "source": [
    "list = [2, 4, 6, 8, 10, 8, 6, 4, 2]\n",
    "\n",
    "def check_symmetric_list(list):\n",
    "    if list == list[::-1]:\n",
    "        print(\"The list is symmetric.\")\n",
    "        print(\"The list has \" + str(len(list)-1) + \" elements.\")\n",
    "    else:\n",
    "        print(\"The list isn't symmetric.\")\n",
    "\n",
    "check_symmetric_list(list)"
   ]
  },
  {
   "cell_type": "markdown",
   "id": "bd505826",
   "metadata": {},
   "source": [
    "##*Exercice 5*##"
   ]
  },
  {
   "cell_type": "markdown",
   "id": "27bedc0e",
   "metadata": {},
   "source": [
    "*Crea un programa que donada una llista, et digui quants números coincideixen amb la seva posició. Per exemple [3,4,2,0,2,3,6] el 2 i el 6 coincideixen.*"
   ]
  },
  {
   "cell_type": "code",
   "execution_count": 44,
   "id": "892186b1",
   "metadata": {},
   "outputs": [
    {
     "name": "stdout",
     "output_type": "stream",
     "text": [
      "There are 1 elements matching its index in the list.\n"
     ]
    }
   ],
   "source": [
    "count = 0\n",
    "for i in range(len(list)):\n",
    "    if i == list[i]:\n",
    "        count=+1\n",
    "print(\"There are \" + str(count) + \" elements matching its index in the list.\")      "
   ]
  }
 ],
 "metadata": {
  "kernelspec": {
   "display_name": "Python 3 (ipykernel)",
   "language": "python",
   "name": "python3"
  },
  "language_info": {
   "codemirror_mode": {
    "name": "ipython",
    "version": 3
   },
   "file_extension": ".py",
   "mimetype": "text/x-python",
   "name": "python",
   "nbconvert_exporter": "python",
   "pygments_lexer": "ipython3",
   "version": "3.9.7"
  }
 },
 "nbformat": 4,
 "nbformat_minor": 5
}
